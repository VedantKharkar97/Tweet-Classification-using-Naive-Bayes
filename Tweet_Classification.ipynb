{
 "cells": [
  {
   "cell_type": "code",
   "execution_count": 2,
   "id": "9dbbeda9",
   "metadata": {},
   "outputs": [
    {
     "name": "stderr",
     "output_type": "stream",
     "text": [
      "[nltk_data] Downloading package punkt to\n",
      "[nltk_data]     C:\\Users\\91940\\AppData\\Roaming\\nltk_data...\n",
      "[nltk_data]   Package punkt is already up-to-date!\n"
     ]
    },
    {
     "data": {
      "text/plain": [
       "True"
      ]
     },
     "execution_count": 2,
     "metadata": {},
     "output_type": "execute_result"
    }
   ],
   "source": [
    "import numpy as np\n",
    "import pandas as pd\n",
    "import matplotlib.pyplot as plt\n",
    "import nltk\n",
    "nltk.download('punkt')"
   ]
  },
  {
   "cell_type": "code",
   "execution_count": 3,
   "id": "078b032e",
   "metadata": {},
   "outputs": [],
   "source": [
    "df1=pd.read_csv(\"tweet_classification.csv\",encoding='ISO-8859-1')"
   ]
  },
  {
   "cell_type": "code",
   "execution_count": 3,
   "id": "e9a6d8ad",
   "metadata": {},
   "outputs": [
    {
     "data": {
      "text/html": [
       "<div>\n",
       "<style scoped>\n",
       "    .dataframe tbody tr th:only-of-type {\n",
       "        vertical-align: middle;\n",
       "    }\n",
       "\n",
       "    .dataframe tbody tr th {\n",
       "        vertical-align: top;\n",
       "    }\n",
       "\n",
       "    .dataframe thead th {\n",
       "        text-align: right;\n",
       "    }\n",
       "</style>\n",
       "<table border=\"1\" class=\"dataframe\">\n",
       "  <thead>\n",
       "    <tr style=\"text-align: right;\">\n",
       "      <th></th>\n",
       "      <th>0</th>\n",
       "      <th>1467810369</th>\n",
       "      <th>Mon Apr 06 22:19:45 PDT 2009</th>\n",
       "      <th>NO_QUERY</th>\n",
       "      <th>_TheSpecialOne_</th>\n",
       "      <th>@switchfoot http://twitpic.com/2y1zl - Awww, that's a bummer.  You shoulda got David Carr of Third Day to do it. ;D</th>\n",
       "    </tr>\n",
       "  </thead>\n",
       "  <tbody>\n",
       "    <tr>\n",
       "      <th>997241</th>\n",
       "      <td>4</td>\n",
       "      <td>1836041732</td>\n",
       "      <td>Mon May 18 07:15:28 PDT 2009</td>\n",
       "      <td>NO_QUERY</td>\n",
       "      <td>brandyxgreen</td>\n",
       "      <td>Wow....your terrible. Lol</td>\n",
       "    </tr>\n",
       "    <tr>\n",
       "      <th>332061</th>\n",
       "      <td>0</td>\n",
       "      <td>2012923504</td>\n",
       "      <td>Tue Jun 02 21:33:15 PDT 2009</td>\n",
       "      <td>NO_QUERY</td>\n",
       "      <td>WindsSilentWord</td>\n",
       "      <td>i agree with @bluestatus. I needa get a job. B...</td>\n",
       "    </tr>\n",
       "    <tr>\n",
       "      <th>737957</th>\n",
       "      <td>0</td>\n",
       "      <td>2265357150</td>\n",
       "      <td>Sun Jun 21 06:24:07 PDT 2009</td>\n",
       "      <td>NO_QUERY</td>\n",
       "      <td>raunaqsahu</td>\n",
       "      <td>Massa was brilliant today. Wish Barrichello ha...</td>\n",
       "    </tr>\n",
       "    <tr>\n",
       "      <th>875939</th>\n",
       "      <td>4</td>\n",
       "      <td>1680922051</td>\n",
       "      <td>Sat May 02 12:48:21 PDT 2009</td>\n",
       "      <td>NO_QUERY</td>\n",
       "      <td>Rubicka</td>\n",
       "      <td>watching a movie</td>\n",
       "    </tr>\n",
       "    <tr>\n",
       "      <th>859988</th>\n",
       "      <td>4</td>\n",
       "      <td>1676252130</td>\n",
       "      <td>Fri May 01 21:30:29 PDT 2009</td>\n",
       "      <td>NO_QUERY</td>\n",
       "      <td>leewaters</td>\n",
       "      <td>@frfozybearftwin Hey, thanks, man. ;) I can de...</td>\n",
       "    </tr>\n",
       "  </tbody>\n",
       "</table>\n",
       "</div>"
      ],
      "text/plain": [
       "        0  1467810369  Mon Apr 06 22:19:45 PDT 2009  NO_QUERY  \\\n",
       "997241  4  1836041732  Mon May 18 07:15:28 PDT 2009  NO_QUERY   \n",
       "332061  0  2012923504  Tue Jun 02 21:33:15 PDT 2009  NO_QUERY   \n",
       "737957  0  2265357150  Sun Jun 21 06:24:07 PDT 2009  NO_QUERY   \n",
       "875939  4  1680922051  Sat May 02 12:48:21 PDT 2009  NO_QUERY   \n",
       "859988  4  1676252130  Fri May 01 21:30:29 PDT 2009  NO_QUERY   \n",
       "\n",
       "        _TheSpecialOne_  \\\n",
       "997241     brandyxgreen   \n",
       "332061  WindsSilentWord   \n",
       "737957       raunaqsahu   \n",
       "875939          Rubicka   \n",
       "859988        leewaters   \n",
       "\n",
       "       @switchfoot http://twitpic.com/2y1zl - Awww, that's a bummer.  You shoulda got David Carr of Third Day to do it. ;D  \n",
       "997241                         Wow....your terrible. Lol                                                                    \n",
       "332061  i agree with @bluestatus. I needa get a job. B...                                                                   \n",
       "737957  Massa was brilliant today. Wish Barrichello ha...                                                                   \n",
       "875939                                  watching a movie                                                                    \n",
       "859988  @frfozybearftwin Hey, thanks, man. ;) I can de...                                                                   "
      ]
     },
     "execution_count": 3,
     "metadata": {},
     "output_type": "execute_result"
    }
   ],
   "source": [
    "df1.sample(5)"
   ]
  },
  {
   "cell_type": "code",
   "execution_count": 52,
   "id": "e8c4e143",
   "metadata": {},
   "outputs": [],
   "source": [
    "df2=df1.iloc[:30000]"
   ]
  },
  {
   "cell_type": "code",
   "execution_count": 53,
   "id": "7a55811b",
   "metadata": {},
   "outputs": [
    {
     "data": {
      "text/html": [
       "<div>\n",
       "<style scoped>\n",
       "    .dataframe tbody tr th:only-of-type {\n",
       "        vertical-align: middle;\n",
       "    }\n",
       "\n",
       "    .dataframe tbody tr th {\n",
       "        vertical-align: top;\n",
       "    }\n",
       "\n",
       "    .dataframe thead th {\n",
       "        text-align: right;\n",
       "    }\n",
       "</style>\n",
       "<table border=\"1\" class=\"dataframe\">\n",
       "  <thead>\n",
       "    <tr style=\"text-align: right;\">\n",
       "      <th></th>\n",
       "      <th>0</th>\n",
       "      <th>1467810369</th>\n",
       "      <th>Mon Apr 06 22:19:45 PDT 2009</th>\n",
       "      <th>NO_QUERY</th>\n",
       "      <th>_TheSpecialOne_</th>\n",
       "      <th>@switchfoot http://twitpic.com/2y1zl - Awww, that's a bummer.  You shoulda got David Carr of Third Day to do it. ;D</th>\n",
       "    </tr>\n",
       "  </thead>\n",
       "  <tbody>\n",
       "    <tr>\n",
       "      <th>29995</th>\n",
       "      <td>0</td>\n",
       "      <td>1563641721</td>\n",
       "      <td>Sun Apr 19 23:38:18 PDT 2009</td>\n",
       "      <td>NO_QUERY</td>\n",
       "      <td>coliwilso</td>\n",
       "      <td>Oh FFS! I've been here all fucking day. Why de...</td>\n",
       "    </tr>\n",
       "    <tr>\n",
       "      <th>29996</th>\n",
       "      <td>0</td>\n",
       "      <td>1563641818</td>\n",
       "      <td>Sun Apr 19 23:38:19 PDT 2009</td>\n",
       "      <td>NO_QUERY</td>\n",
       "      <td>redrum231</td>\n",
       "      <td>Leaving britney-just found out jon from new ki...</td>\n",
       "    </tr>\n",
       "    <tr>\n",
       "      <th>29997</th>\n",
       "      <td>0</td>\n",
       "      <td>1563649379</td>\n",
       "      <td>Sun Apr 19 23:40:08 PDT 2009</td>\n",
       "      <td>NO_QUERY</td>\n",
       "      <td>ToniaToxic</td>\n",
       "      <td>@Neomic I havta' go pee, but Im scared to walk...</td>\n",
       "    </tr>\n",
       "    <tr>\n",
       "      <th>29998</th>\n",
       "      <td>0</td>\n",
       "      <td>1563649439</td>\n",
       "      <td>Sun Apr 19 23:40:11 PDT 2009</td>\n",
       "      <td>NO_QUERY</td>\n",
       "      <td>Tom_1994</td>\n",
       "      <td>Nooooooooooooooo!!!!!! School today. But the w...</td>\n",
       "    </tr>\n",
       "    <tr>\n",
       "      <th>29999</th>\n",
       "      <td>0</td>\n",
       "      <td>1563649891</td>\n",
       "      <td>Sun Apr 19 23:40:15 PDT 2009</td>\n",
       "      <td>NO_QUERY</td>\n",
       "      <td>mattydoga</td>\n",
       "      <td>Back to school tomorow</td>\n",
       "    </tr>\n",
       "  </tbody>\n",
       "</table>\n",
       "</div>"
      ],
      "text/plain": [
       "       0  1467810369  Mon Apr 06 22:19:45 PDT 2009  NO_QUERY _TheSpecialOne_  \\\n",
       "29995  0  1563641721  Sun Apr 19 23:38:18 PDT 2009  NO_QUERY       coliwilso   \n",
       "29996  0  1563641818  Sun Apr 19 23:38:19 PDT 2009  NO_QUERY       redrum231   \n",
       "29997  0  1563649379  Sun Apr 19 23:40:08 PDT 2009  NO_QUERY      ToniaToxic   \n",
       "29998  0  1563649439  Sun Apr 19 23:40:11 PDT 2009  NO_QUERY        Tom_1994   \n",
       "29999  0  1563649891  Sun Apr 19 23:40:15 PDT 2009  NO_QUERY       mattydoga   \n",
       "\n",
       "      @switchfoot http://twitpic.com/2y1zl - Awww, that's a bummer.  You shoulda got David Carr of Third Day to do it. ;D  \n",
       "29995  Oh FFS! I've been here all fucking day. Why de...                                                                   \n",
       "29996  Leaving britney-just found out jon from new ki...                                                                   \n",
       "29997  @Neomic I havta' go pee, but Im scared to walk...                                                                   \n",
       "29998  Nooooooooooooooo!!!!!! School today. But the w...                                                                   \n",
       "29999                            Back to school tomorow                                                                    "
      ]
     },
     "execution_count": 53,
     "metadata": {},
     "output_type": "execute_result"
    }
   ],
   "source": [
    "df2.tail()"
   ]
  },
  {
   "cell_type": "code",
   "execution_count": 54,
   "id": "08084911",
   "metadata": {},
   "outputs": [],
   "source": [
    "df3=df1.iloc[-30000:]"
   ]
  },
  {
   "cell_type": "code",
   "execution_count": 55,
   "id": "dc0656d0",
   "metadata": {},
   "outputs": [
    {
     "data": {
      "text/html": [
       "<div>\n",
       "<style scoped>\n",
       "    .dataframe tbody tr th:only-of-type {\n",
       "        vertical-align: middle;\n",
       "    }\n",
       "\n",
       "    .dataframe tbody tr th {\n",
       "        vertical-align: top;\n",
       "    }\n",
       "\n",
       "    .dataframe thead th {\n",
       "        text-align: right;\n",
       "    }\n",
       "</style>\n",
       "<table border=\"1\" class=\"dataframe\">\n",
       "  <thead>\n",
       "    <tr style=\"text-align: right;\">\n",
       "      <th></th>\n",
       "      <th>0</th>\n",
       "      <th>1467810369</th>\n",
       "      <th>Mon Apr 06 22:19:45 PDT 2009</th>\n",
       "      <th>NO_QUERY</th>\n",
       "      <th>_TheSpecialOne_</th>\n",
       "      <th>@switchfoot http://twitpic.com/2y1zl - Awww, that's a bummer.  You shoulda got David Carr of Third Day to do it. ;D</th>\n",
       "    </tr>\n",
       "  </thead>\n",
       "  <tbody>\n",
       "    <tr>\n",
       "      <th>1581401</th>\n",
       "      <td>4</td>\n",
       "      <td>2190184980</td>\n",
       "      <td>Tue Jun 16 02:00:38 PDT 2009</td>\n",
       "      <td>NO_QUERY</td>\n",
       "      <td>Sarah_Lois</td>\n",
       "      <td>all i can think about is sashimi right now... ...</td>\n",
       "    </tr>\n",
       "    <tr>\n",
       "      <th>1585388</th>\n",
       "      <td>4</td>\n",
       "      <td>2190678204</td>\n",
       "      <td>Tue Jun 16 03:25:05 PDT 2009</td>\n",
       "      <td>NO_QUERY</td>\n",
       "      <td>docbaty</td>\n",
       "      <td>@Yoni Tasted wonderful as well  How've you bee...</td>\n",
       "    </tr>\n",
       "    <tr>\n",
       "      <th>1594471</th>\n",
       "      <td>4</td>\n",
       "      <td>2192162584</td>\n",
       "      <td>Tue Jun 16 06:36:37 PDT 2009</td>\n",
       "      <td>NO_QUERY</td>\n",
       "      <td>aureldiamond</td>\n",
       "      <td>@emmabung HAI you okay? I'm in WH researching ...</td>\n",
       "    </tr>\n",
       "    <tr>\n",
       "      <th>1579387</th>\n",
       "      <td>4</td>\n",
       "      <td>2189936696</td>\n",
       "      <td>Tue Jun 16 01:18:31 PDT 2009</td>\n",
       "      <td>NO_QUERY</td>\n",
       "      <td>exortabreedoll</td>\n",
       "      <td>@Rickyhardianto yesss ! congrats to you too ! ...</td>\n",
       "    </tr>\n",
       "    <tr>\n",
       "      <th>1586105</th>\n",
       "      <td>4</td>\n",
       "      <td>2190763068</td>\n",
       "      <td>Tue Jun 16 03:39:31 PDT 2009</td>\n",
       "      <td>NO_QUERY</td>\n",
       "      <td>SummerLovin28x</td>\n",
       "      <td>@coollike http://twitpic.com/7j985 - my sister...</td>\n",
       "    </tr>\n",
       "  </tbody>\n",
       "</table>\n",
       "</div>"
      ],
      "text/plain": [
       "         0  1467810369  Mon Apr 06 22:19:45 PDT 2009  NO_QUERY  \\\n",
       "1581401  4  2190184980  Tue Jun 16 02:00:38 PDT 2009  NO_QUERY   \n",
       "1585388  4  2190678204  Tue Jun 16 03:25:05 PDT 2009  NO_QUERY   \n",
       "1594471  4  2192162584  Tue Jun 16 06:36:37 PDT 2009  NO_QUERY   \n",
       "1579387  4  2189936696  Tue Jun 16 01:18:31 PDT 2009  NO_QUERY   \n",
       "1586105  4  2190763068  Tue Jun 16 03:39:31 PDT 2009  NO_QUERY   \n",
       "\n",
       "        _TheSpecialOne_  \\\n",
       "1581401      Sarah_Lois   \n",
       "1585388         docbaty   \n",
       "1594471    aureldiamond   \n",
       "1579387  exortabreedoll   \n",
       "1586105  SummerLovin28x   \n",
       "\n",
       "        @switchfoot http://twitpic.com/2y1zl - Awww, that's a bummer.  You shoulda got David Carr of Third Day to do it. ;D  \n",
       "1581401  all i can think about is sashimi right now... ...                                                                   \n",
       "1585388  @Yoni Tasted wonderful as well  How've you bee...                                                                   \n",
       "1594471  @emmabung HAI you okay? I'm in WH researching ...                                                                   \n",
       "1579387  @Rickyhardianto yesss ! congrats to you too ! ...                                                                   \n",
       "1586105  @coollike http://twitpic.com/7j985 - my sister...                                                                   "
      ]
     },
     "execution_count": 55,
     "metadata": {},
     "output_type": "execute_result"
    }
   ],
   "source": [
    "df3.sample(5)"
   ]
  },
  {
   "cell_type": "code",
   "execution_count": 56,
   "id": "35827044",
   "metadata": {},
   "outputs": [],
   "source": [
    "frames=[df2,df3]"
   ]
  },
  {
   "cell_type": "code",
   "execution_count": 57,
   "id": "f01b2afd",
   "metadata": {},
   "outputs": [],
   "source": [
    "df=pd.concat(frames)"
   ]
  },
  {
   "cell_type": "code",
   "execution_count": 112,
   "id": "5d590ee8",
   "metadata": {},
   "outputs": [
    {
     "data": {
      "text/html": [
       "<div>\n",
       "<style scoped>\n",
       "    .dataframe tbody tr th:only-of-type {\n",
       "        vertical-align: middle;\n",
       "    }\n",
       "\n",
       "    .dataframe tbody tr th {\n",
       "        vertical-align: top;\n",
       "    }\n",
       "\n",
       "    .dataframe thead th {\n",
       "        text-align: right;\n",
       "    }\n",
       "</style>\n",
       "<table border=\"1\" class=\"dataframe\">\n",
       "  <thead>\n",
       "    <tr style=\"text-align: right;\">\n",
       "      <th></th>\n",
       "      <th>Target</th>\n",
       "      <th>Text</th>\n",
       "      <th>final_text</th>\n",
       "    </tr>\n",
       "  </thead>\n",
       "  <tbody>\n",
       "    <tr>\n",
       "      <th>1582620</th>\n",
       "      <td>1</td>\n",
       "      <td>Tonight shoot of Matt buying his golf outfit a...</td>\n",
       "      <td>tonight shoot matt buy golf outfit la quinta m...</td>\n",
       "    </tr>\n",
       "    <tr>\n",
       "      <th>1580065</th>\n",
       "      <td>1</td>\n",
       "      <td>watching the USA-Italy replay on espnu  pretty...</td>\n",
       "      <td>watch replay espnu pretti good game itali</td>\n",
       "    </tr>\n",
       "    <tr>\n",
       "      <th>23152</th>\n",
       "      <td>0</td>\n",
       "      <td>sun is cool.. but macbook not usable on the ba...</td>\n",
       "      <td>sun cool macbook usabl balconi</td>\n",
       "    </tr>\n",
       "    <tr>\n",
       "      <th>1593065</th>\n",
       "      <td>1</td>\n",
       "      <td>@sparki1980 Thanks love.  I'm nervous, but I k...</td>\n",
       "      <td>sparki1980 thank love nervou know alright keep...</td>\n",
       "    </tr>\n",
       "    <tr>\n",
       "      <th>2798</th>\n",
       "      <td>0</td>\n",
       "      <td>madre is grinding on me this is gonna be a lon...</td>\n",
       "      <td>madr grind gon na long week</td>\n",
       "    </tr>\n",
       "  </tbody>\n",
       "</table>\n",
       "</div>"
      ],
      "text/plain": [
       "         Target                                               Text  \\\n",
       "1582620       1  Tonight shoot of Matt buying his golf outfit a...   \n",
       "1580065       1  watching the USA-Italy replay on espnu  pretty...   \n",
       "23152         0  sun is cool.. but macbook not usable on the ba...   \n",
       "1593065       1  @sparki1980 Thanks love.  I'm nervous, but I k...   \n",
       "2798          0  madre is grinding on me this is gonna be a lon...   \n",
       "\n",
       "                                                final_text  \n",
       "1582620  tonight shoot matt buy golf outfit la quinta m...  \n",
       "1580065          watch replay espnu pretti good game itali  \n",
       "23152                       sun cool macbook usabl balconi  \n",
       "1593065  sparki1980 thank love nervou know alright keep...  \n",
       "2798                           madr grind gon na long week  "
      ]
     },
     "execution_count": 112,
     "metadata": {},
     "output_type": "execute_result"
    }
   ],
   "source": [
    "df.sample(5)"
   ]
  },
  {
   "cell_type": "code",
   "execution_count": 59,
   "id": "d6fd67f6",
   "metadata": {},
   "outputs": [
    {
     "data": {
      "text/plain": [
       "(60000, 6)"
      ]
     },
     "execution_count": 59,
     "metadata": {},
     "output_type": "execute_result"
    }
   ],
   "source": [
    "df.shape"
   ]
  },
  {
   "cell_type": "code",
   "execution_count": 60,
   "id": "f9bcdb1f",
   "metadata": {},
   "outputs": [],
   "source": [
    "df.drop(columns=['1467810369','Mon Apr 06 22:19:45 PDT 2009','NO_QUERY','_TheSpecialOne_'],inplace=True)"
   ]
  },
  {
   "cell_type": "code",
   "execution_count": 61,
   "id": "682019e0",
   "metadata": {},
   "outputs": [],
   "source": [
    "df.columns=[\"Target\",\"Text\"]"
   ]
  },
  {
   "cell_type": "code",
   "execution_count": 62,
   "id": "2772d124",
   "metadata": {},
   "outputs": [
    {
     "data": {
      "text/plain": [
       "0    30000\n",
       "4    30000\n",
       "Name: Target, dtype: int64"
      ]
     },
     "execution_count": 62,
     "metadata": {},
     "output_type": "execute_result"
    }
   ],
   "source": [
    "df['Target'].value_counts()"
   ]
  },
  {
   "cell_type": "code",
   "execution_count": 63,
   "id": "d9e02dd3",
   "metadata": {},
   "outputs": [],
   "source": [
    "from sklearn.preprocessing import LabelEncoder\n",
    "encoder=LabelEncoder()"
   ]
  },
  {
   "cell_type": "code",
   "execution_count": 64,
   "id": "165e4911",
   "metadata": {},
   "outputs": [],
   "source": [
    "df['Target']=encoder.fit_transform(df['Target'])"
   ]
  },
  {
   "cell_type": "code",
   "execution_count": 65,
   "id": "63ec0fa3",
   "metadata": {},
   "outputs": [
    {
     "data": {
      "text/html": [
       "<div>\n",
       "<style scoped>\n",
       "    .dataframe tbody tr th:only-of-type {\n",
       "        vertical-align: middle;\n",
       "    }\n",
       "\n",
       "    .dataframe tbody tr th {\n",
       "        vertical-align: top;\n",
       "    }\n",
       "\n",
       "    .dataframe thead th {\n",
       "        text-align: right;\n",
       "    }\n",
       "</style>\n",
       "<table border=\"1\" class=\"dataframe\">\n",
       "  <thead>\n",
       "    <tr style=\"text-align: right;\">\n",
       "      <th></th>\n",
       "      <th>Target</th>\n",
       "      <th>Text</th>\n",
       "    </tr>\n",
       "  </thead>\n",
       "  <tbody>\n",
       "  </tbody>\n",
       "</table>\n",
       "</div>"
      ],
      "text/plain": [
       "Empty DataFrame\n",
       "Columns: [Target, Text]\n",
       "Index: []"
      ]
     },
     "execution_count": 65,
     "metadata": {},
     "output_type": "execute_result"
    }
   ],
   "source": [
    "df[df['Target']==2]"
   ]
  },
  {
   "cell_type": "code",
   "execution_count": 66,
   "id": "71a75b19",
   "metadata": {},
   "outputs": [
    {
     "data": {
      "text/plain": [
       "Target    0\n",
       "Text      0\n",
       "dtype: int64"
      ]
     },
     "execution_count": 66,
     "metadata": {},
     "output_type": "execute_result"
    }
   ],
   "source": [
    "df.isnull().sum()"
   ]
  },
  {
   "cell_type": "code",
   "execution_count": 67,
   "id": "ac3ab557",
   "metadata": {},
   "outputs": [
    {
     "data": {
      "text/plain": [
       "253"
      ]
     },
     "execution_count": 67,
     "metadata": {},
     "output_type": "execute_result"
    }
   ],
   "source": [
    "df.duplicated().sum()"
   ]
  },
  {
   "cell_type": "code",
   "execution_count": 68,
   "id": "589fa6b3",
   "metadata": {},
   "outputs": [],
   "source": [
    "df=df.drop_duplicates(keep='first')"
   ]
  },
  {
   "cell_type": "code",
   "execution_count": 69,
   "id": "09c90258",
   "metadata": {},
   "outputs": [
    {
     "data": {
      "text/plain": [
       "0"
      ]
     },
     "execution_count": 69,
     "metadata": {},
     "output_type": "execute_result"
    }
   ],
   "source": [
    "df.duplicated().sum()"
   ]
  },
  {
   "cell_type": "code",
   "execution_count": 70,
   "id": "b455191a",
   "metadata": {},
   "outputs": [
    {
     "data": {
      "text/plain": [
       "(59747, 2)"
      ]
     },
     "execution_count": 70,
     "metadata": {},
     "output_type": "execute_result"
    }
   ],
   "source": [
    "df.shape"
   ]
  },
  {
   "cell_type": "code",
   "execution_count": 71,
   "id": "a81badc0",
   "metadata": {},
   "outputs": [
    {
     "data": {
      "text/plain": [
       "1    29895\n",
       "0    29852\n",
       "Name: Target, dtype: int64"
      ]
     },
     "execution_count": 71,
     "metadata": {},
     "output_type": "execute_result"
    }
   ],
   "source": [
    "df['Target'].value_counts()"
   ]
  },
  {
   "cell_type": "code",
   "execution_count": 72,
   "id": "79b74354",
   "metadata": {},
   "outputs": [
    {
     "data": {
      "image/png": "[encoded data removed]",
      "text/plain": [
       "<Figure size 432x288 with 1 Axes>"
      ]
     },
     "metadata": {},
     "output_type": "display_data"
    }
   ],
   "source": [
    "plt.pie(df['Target'].value_counts(),labels=['positive','negative'],autopct=\"%0.2f\")\n",
    "plt.show()"
   ]
  },
  {
   "cell_type": "code",
   "execution_count": 73,
   "id": "917a65d3",
   "metadata": {},
   "outputs": [
    {
     "name": "stderr",
     "output_type": "stream",
     "text": [
      "[nltk_data] Downloading package stopwords to\n",
      "[nltk_data]     C:\\Users\\91940\\AppData\\Roaming\\nltk_data...\n",
      "[nltk_data]   Package stopwords is already up-to-date!\n"
     ]
    },
    {
     "data": {
      "text/plain": [
       "['i',\n",
       " 'me',\n",
       " 'my',\n",
       " 'myself',\n",
       " 'we',\n",
       " 'our',\n",
       " 'ours',\n",
       " 'ourselves',\n",
       " 'you',\n",
       " \"you're\",\n",
       " \"you've\",\n",
       " \"you'll\",\n",
       " \"you'd\",\n",
       " 'your',\n",
       " 'yours',\n",
       " 'yourself',\n",
       " 'yourselves',\n",
       " 'he',\n",
       " 'him',\n",
       " 'his',\n",
       " 'himself',\n",
       " 'she',\n",
       " \"she's\",\n",
       " 'her',\n",
       " 'hers',\n",
       " 'herself',\n",
       " 'it',\n",
       " \"it's\",\n",
       " 'its',\n",
       " 'itself',\n",
       " 'they',\n",
       " 'them',\n",
       " 'their',\n",
       " 'theirs',\n",
       " 'themselves',\n",
       " 'what',\n",
       " 'which',\n",
       " 'who',\n",
       " 'whom',\n",
       " 'this',\n",
       " 'that',\n",
       " \"that'll\",\n",
       " 'these',\n",
       " 'those',\n",
       " 'am',\n",
       " 'is',\n",
       " 'are',\n",
       " 'was',\n",
       " 'were',\n",
       " 'be',\n",
       " 'been',\n",
       " 'being',\n",
       " 'have',\n",
       " 'has',\n",
       " 'had',\n",
       " 'having',\n",
       " 'do',\n",
       " 'does',\n",
       " 'did',\n",
       " 'doing',\n",
       " 'a',\n",
       " 'an',\n",
       " 'the',\n",
       " 'and',\n",
       " 'but',\n",
       " 'if',\n",
       " 'or',\n",
       " 'because',\n",
       " 'as',\n",
       " 'until',\n",
       " 'while',\n",
       " 'of',\n",
       " 'at',\n",
       " 'by',\n",
       " 'for',\n",
       " 'with',\n",
       " 'about',\n",
       " 'against',\n",
       " 'between',\n",
       " 'into',\n",
       " 'through',\n",
       " 'during',\n",
       " 'before',\n",
       " 'after',\n",
       " 'above',\n",
       " 'below',\n",
       " 'to',\n",
       " 'from',\n",
       " 'up',\n",
       " 'down',\n",
       " 'in',\n",
       " 'out',\n",
       " 'on',\n",
       " 'off',\n",
       " 'over',\n",
       " 'under',\n",
       " 'again',\n",
       " 'further',\n",
       " 'then',\n",
       " 'once',\n",
       " 'here',\n",
       " 'there',\n",
       " 'when',\n",
       " 'where',\n",
       " 'why',\n",
       " 'how',\n",
       " 'all',\n",
       " 'any',\n",
       " 'both',\n",
       " 'each',\n",
       " 'few',\n",
       " 'more',\n",
       " 'most',\n",
       " 'other',\n",
       " 'some',\n",
       " 'such',\n",
       " 'no',\n",
       " 'nor',\n",
       " 'not',\n",
       " 'only',\n",
       " 'own',\n",
       " 'same',\n",
       " 'so',\n",
       " 'than',\n",
       " 'too',\n",
       " 'very',\n",
       " 's',\n",
       " 't',\n",
       " 'can',\n",
       " 'will',\n",
       " 'just',\n",
       " 'don',\n",
       " \"don't\",\n",
       " 'should',\n",
       " \"should've\",\n",
       " 'now',\n",
       " 'd',\n",
       " 'll',\n",
       " 'm',\n",
       " 'o',\n",
       " 're',\n",
       " 've',\n",
       " 'y',\n",
       " 'ain',\n",
       " 'aren',\n",
       " \"aren't\",\n",
       " 'couldn',\n",
       " \"couldn't\",\n",
       " 'didn',\n",
       " \"didn't\",\n",
       " 'doesn',\n",
       " \"doesn't\",\n",
       " 'hadn',\n",
       " \"hadn't\",\n",
       " 'hasn',\n",
       " \"hasn't\",\n",
       " 'haven',\n",
       " \"haven't\",\n",
       " 'isn',\n",
       " \"isn't\",\n",
       " 'ma',\n",
       " 'mightn',\n",
       " \"mightn't\",\n",
       " 'mustn',\n",
       " \"mustn't\",\n",
       " 'needn',\n",
       " \"needn't\",\n",
       " 'shan',\n",
       " \"shan't\",\n",
       " 'shouldn',\n",
       " \"shouldn't\",\n",
       " 'wasn',\n",
       " \"wasn't\",\n",
       " 'weren',\n",
       " \"weren't\",\n",
       " 'won',\n",
       " \"won't\",\n",
       " 'wouldn',\n",
       " \"wouldn't\"]"
      ]
     },
     "execution_count": 73,
     "metadata": {},
     "output_type": "execute_result"
    }
   ],
   "source": [
    "nltk.download('stopwords')\n",
    "from nltk.corpus import stopwords\n",
    "stopwords.words('english')"
   ]
  },
  {
   "cell_type": "code",
   "execution_count": 29,
   "id": "ddadbbaa",
   "metadata": {},
   "outputs": [],
   "source": [
    "def transform_text(text):\n",
    "    text=text.lower()\n",
    "    text=nltk.word_tokenize(text)\n",
    "    lst=[]\n",
    "    for i in text:\n",
    "        if i.isalnum():\n",
    "            lst.append(i)\n",
    "    final_lst=[word for word in lst if word not in stopwords.words('english')]\n",
    "    text=final_lst[:]\n",
    "    final_lst.clear()\n",
    "    final_txt=[]\n",
    "    for i in text:\n",
    "        final_txt.append(ps.stem(i))\n",
    "    return \" \".join(final_txt)\n",
    "    "
   ]
  },
  {
   "cell_type": "code",
   "execution_count": 74,
   "id": "f1ffb012",
   "metadata": {},
   "outputs": [],
   "source": [
    "from nltk.stem.porter import PorterStemmer\n",
    "ps=PorterStemmer()"
   ]
  },
  {
   "cell_type": "code",
   "execution_count": 75,
   "id": "886be0b4",
   "metadata": {},
   "outputs": [
    {
     "data": {
      "text/plain": [
       "\"is upset that he can't update his Facebook by texting it... and might cry as a result  School today also. Blah!\""
      ]
     },
     "execution_count": 75,
     "metadata": {},
     "output_type": "execute_result"
    }
   ],
   "source": [
    "df['Text'][0]"
   ]
  },
  {
   "cell_type": "code",
   "execution_count": 113,
   "id": "eea7cac5",
   "metadata": {},
   "outputs": [
    {
     "data": {
      "text/plain": [
       "'milost mumbai indian lost csk whistlepodu vadapav'"
      ]
     },
     "execution_count": 113,
     "metadata": {},
     "output_type": "execute_result"
    }
   ],
   "source": [
    "transform_text(\"#milost mumbai indians lost to ##csk #whistlepodu #vadapav\")"
   ]
  },
  {
   "cell_type": "code",
   "execution_count": 77,
   "id": "06408a03",
   "metadata": {},
   "outputs": [],
   "source": [
    "df['final_text']=df['Text'].apply(transform_text)"
   ]
  },
  {
   "cell_type": "code",
   "execution_count": 78,
   "id": "1147e341",
   "metadata": {},
   "outputs": [
    {
     "data": {
      "text/html": [
       "<div>\n",
       "<style scoped>\n",
       "    .dataframe tbody tr th:only-of-type {\n",
       "        vertical-align: middle;\n",
       "    }\n",
       "\n",
       "    .dataframe tbody tr th {\n",
       "        vertical-align: top;\n",
       "    }\n",
       "\n",
       "    .dataframe thead th {\n",
       "        text-align: right;\n",
       "    }\n",
       "</style>\n",
       "<table border=\"1\" class=\"dataframe\">\n",
       "  <thead>\n",
       "    <tr style=\"text-align: right;\">\n",
       "      <th></th>\n",
       "      <th>Target</th>\n",
       "      <th>Text</th>\n",
       "      <th>final_text</th>\n",
       "    </tr>\n",
       "  </thead>\n",
       "  <tbody>\n",
       "    <tr>\n",
       "      <th>0</th>\n",
       "      <td>0</td>\n",
       "      <td>is upset that he can't update his Facebook by ...</td>\n",
       "      <td>upset ca updat facebook text might cri result ...</td>\n",
       "    </tr>\n",
       "    <tr>\n",
       "      <th>1</th>\n",
       "      <td>0</td>\n",
       "      <td>@Kenichan I dived many times for the ball. Man...</td>\n",
       "      <td>kenichan dive mani time ball manag save 50 res...</td>\n",
       "    </tr>\n",
       "    <tr>\n",
       "      <th>2</th>\n",
       "      <td>0</td>\n",
       "      <td>my whole body feels itchy and like its on fire</td>\n",
       "      <td>whole bodi feel itchi like fire</td>\n",
       "    </tr>\n",
       "    <tr>\n",
       "      <th>3</th>\n",
       "      <td>0</td>\n",
       "      <td>@nationwideclass no, it's not behaving at all....</td>\n",
       "      <td>nationwideclass behav mad ca see</td>\n",
       "    </tr>\n",
       "    <tr>\n",
       "      <th>4</th>\n",
       "      <td>0</td>\n",
       "      <td>@Kwesidei not the whole crew</td>\n",
       "      <td>kwesidei whole crew</td>\n",
       "    </tr>\n",
       "  </tbody>\n",
       "</table>\n",
       "</div>"
      ],
      "text/plain": [
       "   Target                                               Text  \\\n",
       "0       0  is upset that he can't update his Facebook by ...   \n",
       "1       0  @Kenichan I dived many times for the ball. Man...   \n",
       "2       0    my whole body feels itchy and like its on fire    \n",
       "3       0  @nationwideclass no, it's not behaving at all....   \n",
       "4       0                      @Kwesidei not the whole crew    \n",
       "\n",
       "                                          final_text  \n",
       "0  upset ca updat facebook text might cri result ...  \n",
       "1  kenichan dive mani time ball manag save 50 res...  \n",
       "2                    whole bodi feel itchi like fire  \n",
       "3                   nationwideclass behav mad ca see  \n",
       "4                                kwesidei whole crew  "
      ]
     },
     "execution_count": 78,
     "metadata": {},
     "output_type": "execute_result"
    }
   ],
   "source": [
    "df.head()"
   ]
  },
  {
   "cell_type": "code",
   "execution_count": 32,
   "id": "fea24c23",
   "metadata": {},
   "outputs": [],
   "source": [
    "# df.to_csv('preprocessed_text.csv',index=False)"
   ]
  },
  {
   "cell_type": "code",
   "execution_count": 33,
   "id": "6e5742ca",
   "metadata": {},
   "outputs": [],
   "source": [
    "# temp_df=pd.read_csv('preprocessed_text.csv')"
   ]
  },
  {
   "cell_type": "code",
   "execution_count": 34,
   "id": "f123b41f",
   "metadata": {},
   "outputs": [],
   "source": [
    "# temp_df.shape"
   ]
  },
  {
   "cell_type": "code",
   "execution_count": 79,
   "id": "328ffbd9",
   "metadata": {},
   "outputs": [],
   "source": [
    "from sklearn.model_selection import train_test_split\n",
    "X_train,X_test,y_train,y_test=train_test_split(df.final_text,df.Target,test_size=0.2)"
   ]
  },
  {
   "cell_type": "code",
   "execution_count": 80,
   "id": "826717c5",
   "metadata": {},
   "outputs": [
    {
     "data": {
      "text/plain": [
       "array([[0, 0, 0, ..., 0, 0, 0],\n",
       "       [0, 0, 0, ..., 0, 0, 0],\n",
       "       [0, 0, 0, ..., 0, 0, 0],\n",
       "       [0, 0, 0, ..., 0, 0, 0]], dtype=int64)"
      ]
     },
     "execution_count": 80,
     "metadata": {},
     "output_type": "execute_result"
    }
   ],
   "source": [
    "from sklearn.feature_extraction.text import CountVectorizer\n",
    "cv=CountVectorizer()\n",
    "x_train_cnt=cv.fit_transform(X_train.values)\n",
    "x_train_cnt.toarray()[:4]"
   ]
  },
  {
   "cell_type": "code",
   "execution_count": 109,
   "id": "875fc8e2",
   "metadata": {},
   "outputs": [
    {
     "data": {
      "text/plain": [
       "\"Listening to Bjork's All is full of Love... crying \""
      ]
     },
     "execution_count": 109,
     "metadata": {},
     "output_type": "execute_result"
    }
   ],
   "source": [
    "df['Text'][900]"
   ]
  },
  {
   "cell_type": "code",
   "execution_count": 82,
   "id": "b8b3522d",
   "metadata": {},
   "outputs": [
    {
     "data": {
      "text/plain": [
       "MultinomialNB()"
      ]
     },
     "execution_count": 82,
     "metadata": {},
     "output_type": "execute_result"
    }
   ],
   "source": [
    "from sklearn.naive_bayes import MultinomialNB\n",
    "model=MultinomialNB()\n",
    "model.fit(x_train_cnt,y_train)"
   ]
  },
  {
   "cell_type": "code",
   "execution_count": 129,
   "id": "5bb3926a",
   "metadata": {},
   "outputs": [
    {
     "data": {
      "text/plain": [
       "array([1, 0], dtype=int64)"
      ]
     },
     "execution_count": 129,
     "metadata": {},
     "output_type": "execute_result"
    }
   ],
   "source": [
    "tweets=[\n",
    "    'csk is champ team   #winner',\n",
    "    'mi lost to csk yesterday #looser'\n",
    "]\n",
    "tweets_cnt=cv.transform(tweets)\n",
    "model.predict(tweets_cnt)"
   ]
  },
  {
   "cell_type": "code",
   "execution_count": 84,
   "id": "a807676c",
   "metadata": {},
   "outputs": [
    {
     "data": {
      "text/plain": [
       "0.7560669456066945"
      ]
     },
     "execution_count": 84,
     "metadata": {},
     "output_type": "execute_result"
    }
   ],
   "source": [
    "x_test_cnt=cv.transform(X_test)\n",
    "model.score(x_test_cnt,y_test)"
   ]
  },
  {
   "cell_type": "code",
   "execution_count": 85,
   "id": "b753959c",
   "metadata": {},
   "outputs": [],
   "source": [
    "y_pred=model.predict(x_test_cnt)"
   ]
  },
  {
   "cell_type": "code",
   "execution_count": 86,
   "id": "0a340732",
   "metadata": {},
   "outputs": [
    {
     "data": {
      "text/plain": [
       "array([1, 0, 0, ..., 0, 1, 0], dtype=int64)"
      ]
     },
     "execution_count": 86,
     "metadata": {},
     "output_type": "execute_result"
    }
   ],
   "source": [
    "y_pred"
   ]
  },
  {
   "cell_type": "code",
   "execution_count": 87,
   "id": "135cd05d",
   "metadata": {},
   "outputs": [
    {
     "name": "stdout",
     "output_type": "stream",
     "text": [
      "              precision    recall  f1-score   support\n",
      "\n",
      "           0       0.74      0.80      0.77      5961\n",
      "           1       0.78      0.72      0.75      5989\n",
      "\n",
      "    accuracy                           0.76     11950\n",
      "   macro avg       0.76      0.76      0.76     11950\n",
      "weighted avg       0.76      0.76      0.76     11950\n",
      "\n"
     ]
    }
   ],
   "source": [
    "from sklearn.metrics import confusion_matrix, classification_report\n",
    "cr = classification_report(y_test,y_pred)\n",
    "cf=confusion_matrix(y_test,y_pred)\n",
    "print(cr)"
   ]
  },
  {
   "cell_type": "code",
   "execution_count": 88,
   "id": "6670ae2d",
   "metadata": {},
   "outputs": [
    {
     "data": {
      "text/plain": [
       "<AxesSubplot:>"
      ]
     },
     "execution_count": 88,
     "metadata": {},
     "output_type": "execute_result"
    },
    {
     "data": {
      "image/png": "[encoded data removed]",
      "text/plain": [
       "<Figure size 432x288 with 2 Axes>"
      ]
     },
     "metadata": {
      "needs_background": "light"
     },
     "output_type": "display_data"
    }
   ],
   "source": [
    "import seaborn as sns\n",
    "sns.heatmap(cf,annot=True)"
   ]
  },
  {
   "cell_type": "code",
   "execution_count": 89,
   "id": "7ca6ad3d",
   "metadata": {},
   "outputs": [
    {
     "name": "stdout",
     "output_type": "stream",
     "text": [
      "75.60669456066945 %\n"
     ]
    }
   ],
   "source": [
    "from sklearn.metrics import accuracy_score\n",
    "accuracy = accuracy_score(y_test,y_pred)\n",
    "print(accuracy*100,\"%\")"
   ]
  },
  {
   "cell_type": "code",
   "execution_count": null,
   "id": "1201600f",
   "metadata": {},
   "outputs": [],
   "source": []
  }
 ],
 "metadata": {
  "kernelspec": {
   "display_name": "Python 3 (ipykernel)",
   "language": "python",
   "name": "python3"
  },
  "language_info": {
   "codemirror_mode": {
    "name": "ipython",
    "version": 3
   },
   "file_extension": ".py",
   "mimetype": "text/x-python",
   "name": "python",
   "nbconvert_exporter": "python",
   "pygments_lexer": "ipython3",
   "version": "3.10.1"
  }
 },
 "nbformat": 4,
 "nbformat_minor": 5
}
